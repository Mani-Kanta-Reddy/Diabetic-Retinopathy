{
 "metadata": {
  "language_info": {
   "codemirror_mode": {
    "name": "ipython",
    "version": 3
   },
   "file_extension": ".py",
   "mimetype": "text/x-python",
   "name": "python",
   "nbconvert_exporter": "python",
   "pygments_lexer": "ipython3",
   "version": "3.8.0-final"
  },
  "orig_nbformat": 2,
  "kernelspec": {
   "name": "python3",
   "display_name": "Python 3"
  }
 },
 "nbformat": 4,
 "nbformat_minor": 2,
 "cells": [
  {
   "cell_type": "code",
   "execution_count": 1,
   "metadata": {},
   "outputs": [],
   "source": [
    "from tensorflow.keras.preprocessing.image import ImageDataGenerator\n",
    "from tensorflow.keras.preprocessing.image import img_to_array, load_img"
   ]
  },
  {
   "cell_type": "code",
   "execution_count": 3,
   "metadata": {},
   "outputs": [],
   "source": [
    "import PIL"
   ]
  },
  {
   "cell_type": "code",
   "execution_count": 25,
   "metadata": {},
   "outputs": [
    {
     "output_type": "stream",
     "name": "stdout",
     "text": [
      "c:\\Users\\Mani\\Desktop\\Incetion Train\nc:\\Users\\Mani\\Desktop\\Incetion Train\\train\n"
     ]
    }
   ],
   "source": [
    "print(os.getcwd())\n",
    "train_dir = os.getcwd()+'\\\\train'\n",
    "print(train_dir)\n",
    "train_zero_dir = os.getcwd()+'\\\\train\\\\zero'\n",
    "#print(train_zero_dir)\n",
    "train_one_dir = os.getcwd()+'\\\\train\\\\one'\n",
    "train_two_dir = os.getcwd()+'\\\\train\\\\two'\n",
    "train_three_dir = os.getcwd()+'\\\\train\\\\three'\n",
    "train_four_dir  = os.getcwd()+'\\\\train\\\\four'"
   ]
  },
  {
   "cell_type": "code",
   "execution_count": 22,
   "metadata": {},
   "outputs": [
    {
     "output_type": "stream",
     "name": "stdout",
     "text": [
      "zero0.jpg\nzero1.jpg\nzero10.jpg\nzero100.jpg\nzero101.jpg\nzero102.jpg\nzero103.jpg\nzero104.jpg\nzero105.jpg\nzero106.jpg\nzero107.jpg\nzero108.jpg\nzero109.jpg\nzero11.jpg\nzero110.jpg\nzero111.jpg\nzero112.jpg\nzero113.jpg\nzero114.jpg\nzero115.jpg\nzero116.jpg\nzero117.jpg\nzero118.jpg\nzero119.jpg\nzero12.jpg\nzero120.jpg\nzero121.jpg\nzero122.jpg\nzero123.jpg\nzero124.jpg\nzero125.jpg\nzero126.jpg\nzero127.jpg\nzero128.jpg\nzero129.jpg\nzero13.jpg\nzero130.jpg\nzero131.jpg\nzero132.jpg\nzero133.jpg\nzero134.jpg\nzero135.jpg\nzero136.jpg\nzero137.jpg\nzero138.jpg\nzero139.jpg\nzero14.jpg\nzero140.jpg\nzero141.jpg\nzero142.jpg\nzero143.jpg\nzero144.jpg\nzero145.jpg\nzero146.jpg\nzero147.jpg\nzero148.jpg\nzero149.jpg\nzero15.jpg\nzero150.jpg\nzero151.jpg\nzero152.jpg\nzero153.jpg\nzero154.jpg\nzero155.jpg\nzero156.jpg\nzero157.jpg\nzero158.jpg\nzero159.jpg\nzero16.jpg\nzero160.jpg\nzero161.jpg\nzero162.jpg\nzero163.jpg\nzero164.jpg\nzero165.jpg\nzero166.jpg\nzero167.jpg\nzero168.jpg\nzero169.jpg\nzero17.jpg\nzero170.jpg\nzero171.jpg\nzero172.jpg\nzero173.jpg\nzero174.jpg\nzero175.jpg\nzero176.jpg\nzero177.jpg\nzero178.jpg\nzero179.jpg\nzero18.jpg\nzero180.jpg\nzero181.jpg\nzero182.jpg\nzero183.jpg\nzero184.jpg\nzero185.jpg\nzero186.jpg\nzero187.jpg\nzero188.jpg\nzero189.jpg\nzero19.jpg\nzero190.jpg\nzero191.jpg\nzero192.jpg\nzero193.jpg\nzero194.jpg\nzero195.jpg\nzero196.jpg\nzero197.jpg\nzero198.jpg\nzero199.jpg\nzero2.jpg\nzero20.jpg\nzero200.jpg\nzero201.jpg\nzero202.jpg\nzero203.jpg\nzero204.jpg\nzero205.jpg\nzero206.jpg\nzero207.jpg\nzero208.jpg\nzero209.jpg\nzero21.jpg\nzero210.jpg\nzero211.jpg\nzero212.jpg\nzero213.jpg\nzero214.jpg\nzero215.jpg\nzero216.jpg\nzero217.jpg\nzero218.jpg\nzero219.jpg\nzero22.jpg\nzero220.jpg\nzero221.jpg\nzero222.jpg\nzero223.jpg\nzero224.jpg\nzero225.jpg\nzero226.jpg\nzero227.jpg\nzero228.jpg\nzero229.jpg\nzero23.jpg\nzero230.jpg\nzero24.jpg\nzero25.jpg\nzero26.jpg\nzero27.jpg\nzero28.jpg\nzero29.jpg\nzero3.jpg\nzero30.jpg\nzero31.jpg\nzero32.jpg\nzero33.jpg\nzero34.jpg\nzero35.jpg\nzero36.jpg\nzero37.jpg\nzero38.jpg\nzero39.jpg\nzero4.jpg\nzero40.jpg\nzero41.jpg\nzero42.jpg\nzero43.jpg\nzero44.jpg\nzero45.jpg\nzero46.jpg\nzero47.jpg\nzero48.jpg\nzero49.jpg\nzero5.jpg\nzero50.jpg\nzero51.jpg\nzero52.jpg\nzero53.jpg\nzero54.jpg\nzero55.jpg\nzero56.jpg\nzero57.jpg\nzero58.jpg\nzero59.jpg\nzero6.jpg\nzero60.jpg\nzero61.jpg\nzero62.jpg\nzero63.jpg\nzero64.jpg\nzero65.jpg\nzero66.jpg\nzero67.jpg\nzero68.jpg\nzero69.jpg\nzero7.jpg\nzero70.jpg\nzero71.jpg\nzero72.jpg\nzero73.jpg\nzero74.jpg\nzero75.jpg\nzero76.jpg\nzero77.jpg\nzero78.jpg\nzero79.jpg\nzero8.jpg\nzero80.jpg\nzero81.jpg\nzero82.jpg\nzero83.jpg\nzero84.jpg\nzero85.jpg\nzero86.jpg\nzero87.jpg\nzero88.jpg\nzero89.jpg\nzero9.jpg\nzero90.jpg\nzero91.jpg\nzero92.jpg\nzero93.jpg\nzero94.jpg\nzero95.jpg\nzero96.jpg\nzero97.jpg\nzero98.jpg\nzero99.jpg\n"
     ]
    }
   ],
   "source": [
    "for file in os.listdir(train_zero_dir):\n",
    "    print(file)\n",
    "    # f_img = f+\"/\"+file\n",
    "    # img = Image.open(f_img)\n",
    "    # img = img.resize((299,299))\n",
    "    # img.save(f_img)"
   ]
  },
  {
   "cell_type": "code",
   "execution_count": 27,
   "metadata": {},
   "outputs": [
    {
     "output_type": "stream",
     "name": "stdout",
     "text": [
      "one0.jpg\none1.jpg\none10.jpg\none11.jpg\none12.jpg\none13.jpg\none14.jpg\none15.jpg\none16.jpg\none2.jpg\none3.jpg\none4.jpg\none5.jpg\none6.jpg\none7.jpg\none8.jpg\none9.jpg\n17\n"
     ]
    }
   ],
   "source": [
    "count=0\n",
    "for file in os.listdir(train_one_dir):\n",
    "    print(file)\n",
    "    count+=1\n",
    "    # f_img = f+\"/\"+file\n",
    "    # img = Image.open(f_img)\n",
    "    # img = img.resize((299,299))\n",
    "    # img.save(f_img)\n",
    "print(count)"
   ]
  },
  {
   "cell_type": "code",
   "execution_count": 39,
   "metadata": {},
   "outputs": [],
   "source": [
    "# Let's apply data augmentation on this one folder:\n",
    "train_datagen = ImageDataGenerator(rescale = 1./255.,\n",
    "                                   rotation_range = 40,\n",
    "                                   width_shift_range = 0.2,\n",
    "                                   height_shift_range = 0.2,\n",
    "                                   shear_range = 0.2,\n",
    "                                   zoom_range = 0.2,\n",
    "                                   horizontal_flip = True\n",
    "                                   )"
   ]
  },
  {
   "cell_type": "code",
   "execution_count": 40,
   "metadata": {},
   "outputs": [],
   "source": [
    "from PIL import Image\n",
    "for file in os.listdir(train_one_dir):\n",
    "    #print(file)\n",
    "    #count+=1\n",
    "    img = load_img(train_one_dir+'/'+file)\n",
    "    x  = img_to_array(img)\n",
    "    x = x.reshape((1,)+x.shape)\n",
    "i=0\n",
    "for batch in train_datagen.flow(x,batch_size=1,save_to_dir=train_one_dir,save_prefix='one',save_format='jpeg'):\n",
    "    i+=1\n",
    "    if(i>5):\n",
    "        break\n",
    "    "
   ]
  },
  {
   "cell_type": "code",
   "execution_count": null,
   "metadata": {},
   "outputs": [],
   "source": []
  }
 ]
}