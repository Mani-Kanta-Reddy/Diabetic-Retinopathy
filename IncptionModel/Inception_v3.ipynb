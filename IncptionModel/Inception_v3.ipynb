{
 "metadata": {
  "language_info": {
   "codemirror_mode": {
    "name": "ipython",
    "version": 3
   },
   "file_extension": ".py",
   "mimetype": "text/x-python",
   "name": "python",
   "nbconvert_exporter": "python",
   "pygments_lexer": "ipython3",
   "version": "3.8.0-final"
  },
  "orig_nbformat": 2,
  "kernelspec": {
   "name": "python3",
   "display_name": "Python 3"
  }
 },
 "nbformat": 4,
 "nbformat_minor": 2,
 "cells": [
  {
   "cell_type": "code",
   "execution_count": 1,
   "metadata": {},
   "outputs": [],
   "source": [
    "\n",
    "#Importing the necessary libraries\n",
    "\n",
    "import os\n",
    "import numpy as np\n",
    "import random\n",
    "import tensorflow\n",
    "import matplotlib.image as mpimg\n",
    "import matplotlib.pyplot as plt\n",
    "from tensorflow.keras import layers\n",
    "from tensorflow.keras import Model\n",
    "from tensorflow.keras.optimizers import RMSprop\n",
    "from tensorflow.keras.applications.inception_v3 import InceptionV3\n",
    "from tensorflow.keras.preprocessing.image import ImageDataGenerator\n",
    "from tensorflow.keras.preprocessing.image import img_to_array, load_img\n",
    "import zipfile"
   ]
  },
  {
   "cell_type": "code",
   "execution_count": 19,
   "metadata": {},
   "outputs": [
    {
     "output_type": "stream",
     "name": "stdout",
     "text": [
      "total training zero images : 231\ntotal training one images : 17\ntotal training two images : 39\ntotal training three images : 5\ntotal training four images : 8\ntotal validation images : 180\n"
     ]
    }
   ],
   "source": [
    "# base_dir = os.getcwd()\n",
    "# print(base_dir)\n",
    "base_dir = os.getcwd()\n",
    "\n",
    "train_dir = os.path.join(base_dir, 'train')\n",
    "# Directory with our training cat/dog pictures\n",
    "train_zero_dir = os.path.join(train_dir, 'zero')\n",
    "train_one_dir = os.path.join(train_dir, 'one')\n",
    "train_two_dir = os.path.join(train_dir, 'two')\n",
    "train_three_dir = os.path.join(train_dir, 'three')\n",
    "train_four_dir = os.path.join(train_dir, 'four')\n",
    "\n",
    "validation_dir = os.path.join(base_dir)\n",
    "# Directory with our validation cat/dog pictures\n",
    "validation_dir = os.path.join(base_dir, 'test')\n",
    "#validation_dogs_dir = os.path.join(validation_dir, 'dogs')\n",
    "\n",
    "print('total training zero images :', len(os.listdir(train_zero_dir)))\n",
    "print('total training one images :', len(os.listdir(train_one_dir)))\n",
    "print('total training two images :', len(os.listdir(train_two_dir)))\n",
    "print('total training three images :', len(os.listdir(train_three_dir)))\n",
    "print('total training four images :', len(os.listdir(train_four_dir)))\n",
    "# print('total training one images :', len(os.listdir(train_one_dir)))\n",
    "print('total validation images :', len(os.listdir(validation_dir)))\n",
    "#print('total validation dog images :', len(os.listdir(validation_dogs_dir)))"
   ]
  },
  {
   "cell_type": "code",
   "execution_count": 11,
   "metadata": {
    "tags": [
     "outputPrepend"
    ]
   },
   "outputs": [
    {
     "output_type": "stream",
     "name": "stdout",
     "text": [
      "255[0][0]             \n__________________________________________________________________________________________________\nconv2d_257 (Conv2D)             (None, 17, 17, 192)  147456      average_pooling2d_24[0][0]       \n__________________________________________________________________________________________________\nbatch_normalization_248 (BatchN (None, 17, 17, 192)  576         conv2d_248[0][0]                 \n__________________________________________________________________________________________________\nbatch_normalization_251 (BatchN (None, 17, 17, 192)  576         conv2d_251[0][0]                 \n__________________________________________________________________________________________________\nbatch_normalization_256 (BatchN (None, 17, 17, 192)  576         conv2d_256[0][0]                 \n__________________________________________________________________________________________________\nbatch_normalization_257 (BatchN (None, 17, 17, 192)  576         conv2d_257[0][0]                 \n__________________________________________________________________________________________________\nactivation_248 (Activation)     (None, 17, 17, 192)  0           batch_normalization_248[0][0]    \n__________________________________________________________________________________________________\nactivation_251 (Activation)     (None, 17, 17, 192)  0           batch_normalization_251[0][0]    \n__________________________________________________________________________________________________\nactivation_256 (Activation)     (None, 17, 17, 192)  0           batch_normalization_256[0][0]    \n__________________________________________________________________________________________________\nactivation_257 (Activation)     (None, 17, 17, 192)  0           batch_normalization_257[0][0]    \n__________________________________________________________________________________________________\nmixed7 (Concatenate)            (None, 17, 17, 768)  0           activation_248[0][0]             \n                                                                 activation_251[0][0]             \n                                                                 activation_256[0][0]             \n                                                                 activation_257[0][0]             \n__________________________________________________________________________________________________\nconv2d_260 (Conv2D)             (None, 17, 17, 192)  147456      mixed7[0][0]                     \n__________________________________________________________________________________________________\nbatch_normalization_260 (BatchN (None, 17, 17, 192)  576         conv2d_260[0][0]                 \n__________________________________________________________________________________________________\nactivation_260 (Activation)     (None, 17, 17, 192)  0           batch_normalization_260[0][0]    \n__________________________________________________________________________________________________\nconv2d_261 (Conv2D)             (None, 17, 17, 192)  258048      activation_260[0][0]             \n__________________________________________________________________________________________________\nbatch_normalization_261 (BatchN (None, 17, 17, 192)  576         conv2d_261[0][0]                 \n__________________________________________________________________________________________________\nactivation_261 (Activation)     (None, 17, 17, 192)  0           batch_normalization_261[0][0]    \n__________________________________________________________________________________________________\nconv2d_258 (Conv2D)             (None, 17, 17, 192)  147456      mixed7[0][0]                     \n__________________________________________________________________________________________________\nconv2d_262 (Conv2D)             (None, 17, 17, 192)  258048      activation_261[0][0]             \n__________________________________________________________________________________________________\nbatch_normalization_258 (BatchN (None, 17, 17, 192)  576         conv2d_258[0][0]                 \n__________________________________________________________________________________________________\nbatch_normalization_262 (BatchN (None, 17, 17, 192)  576         conv2d_262[0][0]                 \n__________________________________________________________________________________________________\nactivation_258 (Activation)     (None, 17, 17, 192)  0           batch_normalization_258[0][0]    \n__________________________________________________________________________________________________\nactivation_262 (Activation)     (None, 17, 17, 192)  0           batch_normalization_262[0][0]    \n__________________________________________________________________________________________________\nconv2d_259 (Conv2D)             (None, 8, 8, 320)    552960      activation_258[0][0]             \n__________________________________________________________________________________________________\nconv2d_263 (Conv2D)             (None, 8, 8, 192)    331776      activation_262[0][0]             \n__________________________________________________________________________________________________\nbatch_normalization_259 (BatchN (None, 8, 8, 320)    960         conv2d_259[0][0]                 \n__________________________________________________________________________________________________\nbatch_normalization_263 (BatchN (None, 8, 8, 192)    576         conv2d_263[0][0]                 \n__________________________________________________________________________________________________\nactivation_259 (Activation)     (None, 8, 8, 320)    0           batch_normalization_259[0][0]    \n__________________________________________________________________________________________________\nactivation_263 (Activation)     (None, 8, 8, 192)    0           batch_normalization_263[0][0]    \n__________________________________________________________________________________________________\nmax_pooling2d_11 (MaxPooling2D) (None, 8, 8, 768)    0           mixed7[0][0]                     \n__________________________________________________________________________________________________\nmixed8 (Concatenate)            (None, 8, 8, 1280)   0           activation_259[0][0]             \n                                                                 activation_263[0][0]             \n                                                                 max_pooling2d_11[0][0]           \n__________________________________________________________________________________________________\nconv2d_268 (Conv2D)             (None, 8, 8, 448)    573440      mixed8[0][0]                     \n__________________________________________________________________________________________________\nbatch_normalization_268 (BatchN (None, 8, 8, 448)    1344        conv2d_268[0][0]                 \n__________________________________________________________________________________________________\nactivation_268 (Activation)     (None, 8, 8, 448)    0           batch_normalization_268[0][0]    \n__________________________________________________________________________________________________\nconv2d_265 (Conv2D)             (None, 8, 8, 384)    491520      mixed8[0][0]                     \n__________________________________________________________________________________________________\nconv2d_269 (Conv2D)             (None, 8, 8, 384)    1548288     activation_268[0][0]             \n__________________________________________________________________________________________________\nbatch_normalization_265 (BatchN (None, 8, 8, 384)    1152        conv2d_265[0][0]                 \n__________________________________________________________________________________________________\nbatch_normalization_269 (BatchN (None, 8, 8, 384)    1152        conv2d_269[0][0]                 \n__________________________________________________________________________________________________\nactivation_265 (Activation)     (None, 8, 8, 384)    0           batch_normalization_265[0][0]    \n__________________________________________________________________________________________________\nactivation_269 (Activation)     (None, 8, 8, 384)    0           batch_normalization_269[0][0]    \n__________________________________________________________________________________________________\nconv2d_266 (Conv2D)             (None, 8, 8, 384)    442368      activation_265[0][0]             \n__________________________________________________________________________________________________\nconv2d_267 (Conv2D)             (None, 8, 8, 384)    442368      activation_265[0][0]             \n__________________________________________________________________________________________________\nconv2d_270 (Conv2D)             (None, 8, 8, 384)    442368      activation_269[0][0]             \n__________________________________________________________________________________________________\nconv2d_271 (Conv2D)             (None, 8, 8, 384)    442368      activation_269[0][0]             \n__________________________________________________________________________________________________\naverage_pooling2d_25 (AveragePo (None, 8, 8, 1280)   0           mixed8[0][0]                     \n__________________________________________________________________________________________________\nconv2d_264 (Conv2D)             (None, 8, 8, 320)    409600      mixed8[0][0]                     \n__________________________________________________________________________________________________\nbatch_normalization_266 (BatchN (None, 8, 8, 384)    1152        conv2d_266[0][0]                 \n__________________________________________________________________________________________________\nbatch_normalization_267 (BatchN (None, 8, 8, 384)    1152        conv2d_267[0][0]                 \n__________________________________________________________________________________________________\nbatch_normalization_270 (BatchN (None, 8, 8, 384)    1152        conv2d_270[0][0]                 \n__________________________________________________________________________________________________\nbatch_normalization_271 (BatchN (None, 8, 8, 384)    1152        conv2d_271[0][0]                 \n__________________________________________________________________________________________________\nconv2d_272 (Conv2D)             (None, 8, 8, 192)    245760      average_pooling2d_25[0][0]       \n__________________________________________________________________________________________________\nbatch_normalization_264 (BatchN (None, 8, 8, 320)    960         conv2d_264[0][0]                 \n__________________________________________________________________________________________________\nactivation_266 (Activation)     (None, 8, 8, 384)    0           batch_normalization_266[0][0]    \n__________________________________________________________________________________________________\nactivation_267 (Activation)     (None, 8, 8, 384)    0           batch_normalization_267[0][0]    \n__________________________________________________________________________________________________\nactivation_270 (Activation)     (None, 8, 8, 384)    0           batch_normalization_270[0][0]    \n__________________________________________________________________________________________________\nactivation_271 (Activation)     (None, 8, 8, 384)    0           batch_normalization_271[0][0]    \n__________________________________________________________________________________________________\nbatch_normalization_272 (BatchN (None, 8, 8, 192)    576         conv2d_272[0][0]                 \n__________________________________________________________________________________________________\nactivation_264 (Activation)     (None, 8, 8, 320)    0           batch_normalization_264[0][0]    \n__________________________________________________________________________________________________\nmixed9_0 (Concatenate)          (None, 8, 8, 768)    0           activation_266[0][0]             \n                                                                 activation_267[0][0]             \n__________________________________________________________________________________________________\nconcatenate_4 (Concatenate)     (None, 8, 8, 768)    0           activation_270[0][0]             \n                                                                 activation_271[0][0]             \n__________________________________________________________________________________________________\nactivation_272 (Activation)     (None, 8, 8, 192)    0           batch_normalization_272[0][0]    \n__________________________________________________________________________________________________\nmixed9 (Concatenate)            (None, 8, 8, 2048)   0           activation_264[0][0]             \n                                                                 mixed9_0[0][0]                   \n                                                                 concatenate_4[0][0]              \n                                                                 activation_272[0][0]             \n__________________________________________________________________________________________________\nconv2d_277 (Conv2D)             (None, 8, 8, 448)    917504      mixed9[0][0]                     \n__________________________________________________________________________________________________\nbatch_normalization_277 (BatchN (None, 8, 8, 448)    1344        conv2d_277[0][0]                 \n__________________________________________________________________________________________________\nactivation_277 (Activation)     (None, 8, 8, 448)    0           batch_normalization_277[0][0]    \n__________________________________________________________________________________________________\nconv2d_274 (Conv2D)             (None, 8, 8, 384)    786432      mixed9[0][0]                     \n__________________________________________________________________________________________________\nconv2d_278 (Conv2D)             (None, 8, 8, 384)    1548288     activation_277[0][0]             \n__________________________________________________________________________________________________\nbatch_normalization_274 (BatchN (None, 8, 8, 384)    1152        conv2d_274[0][0]                 \n__________________________________________________________________________________________________\nbatch_normalization_278 (BatchN (None, 8, 8, 384)    1152        conv2d_278[0][0]                 \n__________________________________________________________________________________________________\nactivation_274 (Activation)     (None, 8, 8, 384)    0           batch_normalization_274[0][0]    \n__________________________________________________________________________________________________\nactivation_278 (Activation)     (None, 8, 8, 384)    0           batch_normalization_278[0][0]    \n__________________________________________________________________________________________________\nconv2d_275 (Conv2D)             (None, 8, 8, 384)    442368      activation_274[0][0]             \n__________________________________________________________________________________________________\nconv2d_276 (Conv2D)             (None, 8, 8, 384)    442368      activation_274[0][0]             \n__________________________________________________________________________________________________\nconv2d_279 (Conv2D)             (None, 8, 8, 384)    442368      activation_278[0][0]             \n__________________________________________________________________________________________________\nconv2d_280 (Conv2D)             (None, 8, 8, 384)    442368      activation_278[0][0]             \n__________________________________________________________________________________________________\naverage_pooling2d_26 (AveragePo (None, 8, 8, 2048)   0           mixed9[0][0]                     \n__________________________________________________________________________________________________\nconv2d_273 (Conv2D)             (None, 8, 8, 320)    655360      mixed9[0][0]                     \n__________________________________________________________________________________________________\nbatch_normalization_275 (BatchN (None, 8, 8, 384)    1152        conv2d_275[0][0]                 \n__________________________________________________________________________________________________\nbatch_normalization_276 (BatchN (None, 8, 8, 384)    1152        conv2d_276[0][0]                 \n__________________________________________________________________________________________________\nbatch_normalization_279 (BatchN (None, 8, 8, 384)    1152        conv2d_279[0][0]                 \n__________________________________________________________________________________________________\nbatch_normalization_280 (BatchN (None, 8, 8, 384)    1152        conv2d_280[0][0]                 \n__________________________________________________________________________________________________\nconv2d_281 (Conv2D)             (None, 8, 8, 192)    393216      average_pooling2d_26[0][0]       \n__________________________________________________________________________________________________\nbatch_normalization_273 (BatchN (None, 8, 8, 320)    960         conv2d_273[0][0]                 \n__________________________________________________________________________________________________\nactivation_275 (Activation)     (None, 8, 8, 384)    0           batch_normalization_275[0][0]    \n__________________________________________________________________________________________________\nactivation_276 (Activation)     (None, 8, 8, 384)    0           batch_normalization_276[0][0]    \n__________________________________________________________________________________________________\nactivation_279 (Activation)     (None, 8, 8, 384)    0           batch_normalization_279[0][0]    \n__________________________________________________________________________________________________\nactivation_280 (Activation)     (None, 8, 8, 384)    0           batch_normalization_280[0][0]    \n__________________________________________________________________________________________________\nbatch_normalization_281 (BatchN (None, 8, 8, 192)    576         conv2d_281[0][0]                 \n__________________________________________________________________________________________________\nactivation_273 (Activation)     (None, 8, 8, 320)    0           batch_normalization_273[0][0]    \n__________________________________________________________________________________________________\nmixed9_1 (Concatenate)          (None, 8, 8, 768)    0           activation_275[0][0]             \n                                                                 activation_276[0][0]             \n__________________________________________________________________________________________________\nconcatenate_5 (Concatenate)     (None, 8, 8, 768)    0           activation_279[0][0]             \n                                                                 activation_280[0][0]             \n__________________________________________________________________________________________________\nactivation_281 (Activation)     (None, 8, 8, 192)    0           batch_normalization_281[0][0]    \n__________________________________________________________________________________________________\nmixed10 (Concatenate)           (None, 8, 8, 2048)   0           activation_273[0][0]             \n                                                                 mixed9_1[0][0]                   \n                                                                 concatenate_5[0][0]              \n                                                                 activation_281[0][0]             \n==================================================================================================\nTotal params: 21,802,784\nTrainable params: 0\nNon-trainable params: 21,802,784\n__________________________________________________________________________________________________\n"
     ]
    }
   ],
   "source": [
    "# print(os.getcwd()+'\\inception_v3_weights_tf_dim_ordering_tf_kernels_notop.h5//')\n",
    "local_weights_file = os.path.join('inception_v3_weights_tf_dim_ordering_tf_kernels_notop.h5')\n",
    "\n",
    "pre_trained_model = InceptionV3(input_shape = (299, 299, 3), \n",
    "                                include_top = False, \n",
    "                                weights = None)\n",
    "\n",
    "pre_trained_model.load_weights(local_weights_file)\n",
    "\n",
    "for layer in pre_trained_model.layers:\n",
    "    layer.trainable = False\n",
    "\n",
    "pre_trained_model.summary()"
   ]
  },
  {
   "cell_type": "code",
   "execution_count": 12,
   "metadata": {},
   "outputs": [
    {
     "output_type": "stream",
     "name": "stdout",
     "text": [
      "last layer taken from InceptionV3 output shape:  (None, 17, 17, 768)\n"
     ]
    }
   ],
   "source": [
    "last_layer = pre_trained_model.get_layer('mixed7')\n",
    "print('last layer taken from InceptionV3 output shape: ', last_layer.output_shape)\n",
    "\n",
    "last_output = last_layer.output\n",
    "# Flatten the output layer to 1 dimension\n",
    "x = layers.Flatten()(last_output)\n",
    "# Add a fully connected layer with 1,024 hidden units and ReLU activation\n",
    "x = layers.Dense(1024, activation='relu')(x)\n",
    "# Add a dropout rate of 0.2\n",
    "x = layers.Dropout(0.2)(x)                  \n",
    "# Add a final sigmoid layer for classification\n",
    "x = layers.Dense  (5, activation='softmax')(x)           \n",
    "\n",
    "model = Model( pre_trained_model.input, x) "
   ]
  },
  {
   "cell_type": "code",
   "execution_count": 15,
   "metadata": {},
   "outputs": [],
   "source": [
    "model.compile(optimizer = RMSprop(lr=0.0001), \n",
    "              loss = 'categorical_crossentropy', \n",
    "              metrics = ['acc'])"
   ]
  },
  {
   "cell_type": "code",
   "execution_count": 16,
   "metadata": {},
   "outputs": [],
   "source": [
    "# Add our data-augmentation parameters to ImageDataGenerator\n",
    "train_datagen = ImageDataGenerator(rescale = 1./255.,\n",
    "                                   rotation_range = 40,\n",
    "                                   width_shift_range = 0.2,\n",
    "                                   height_shift_range = 0.2,\n",
    "                                   shear_range = 0.2,\n",
    "                                   zoom_range = 0.2,\n",
    "                                   horizontal_flip = True)\n",
    "\n",
    "# Note that the validation data should not be augmented!\n",
    "test_datagen = ImageDataGenerator(rescale = 1.0/255.)"
   ]
  },
  {
   "cell_type": "code",
   "execution_count": 20,
   "metadata": {},
   "outputs": [
    {
     "output_type": "stream",
     "name": "stdout",
     "text": [
      "Found 300 images belonging to 5 classes.\n"
     ]
    }
   ],
   "source": [
    "# Flow training images in batches of 20 using train_datagen generator\n",
    "train_generator = train_datagen.flow_from_directory(train_dir,\n",
    "                                                    batch_size = 20,\n",
    "                                                    class_mode = 'categorical', \n",
    "                                                    target_size = (299, 299)) \n"
   ]
  },
  {
   "cell_type": "code",
   "execution_count": 21,
   "metadata": {},
   "outputs": [
    {
     "output_type": "stream",
     "name": "stdout",
     "text": [
      "Found 0 images belonging to 0 classes.\n"
     ]
    }
   ],
   "source": [
    "# Flow validation images in batches of 20 using test_datagen generator\n",
    "validation_generator =  test_datagen.flow_from_directory( validation_dir,\n",
    "                                                          batch_size  = 20,\n",
    "                                                          class_mode  = 'categorical', \n",
    "                                                          target_size = (299, 299))"
   ]
  },
  {
   "cell_type": "code",
   "execution_count": 24,
   "metadata": {},
   "outputs": [
    {
     "output_type": "stream",
     "name": "stdout",
     "text": [
      "Epoch 1/2\n",
      "15/15 - 119s - loss: 1.6036 - acc: 0.7100\n",
      "Epoch 2/2\n",
      "15/15 - 104s - loss: 1.6787 - acc: 0.6500\n"
     ]
    }
   ],
   "source": [
    "history = model.fit_generator(\n",
    "            train_generator,\n",
    "            #validation_data = validation_generator,\n",
    "            steps_per_epoch = 15,\n",
    "            epochs = 2,\n",
    "            #validation_steps = 50,\n",
    "            verbose = 2)"
   ]
  },
  {
   "cell_type": "code",
   "execution_count": null,
   "metadata": {},
   "outputs": [],
   "source": []
  }
 ]
}